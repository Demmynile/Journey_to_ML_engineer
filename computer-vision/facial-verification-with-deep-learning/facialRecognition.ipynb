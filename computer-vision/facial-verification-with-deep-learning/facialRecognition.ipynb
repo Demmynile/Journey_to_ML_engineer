{
 "cells": [
  {
   "cell_type": "markdown",
   "id": "0e0a4a57-3509-4084-a9bd-467f4e468983",
   "metadata": {},
   "source": [
    "# FACIAL RECOGNITION SYSTEM USING DEEP LEARNING"
   ]
  },
  {
   "cell_type": "markdown",
   "id": "8cb57dca-687c-40f7-bf88-445aa0ee3825",
   "metadata": {},
   "source": [
    "## 1.0 Setup "
   ]
  },
  {
   "cell_type": "markdown",
   "id": "1cab3c94-1423-4767-bf87-38dc86377ace",
   "metadata": {},
   "source": [
    "## 1.1 Installing our Dependencies"
   ]
  },
  {
   "cell_type": "code",
   "execution_count": 3,
   "id": "8d2564f8-b273-45de-a5c6-c27b03956e24",
   "metadata": {},
   "outputs": [],
   "source": [
    "#!pip3 install tensorflow opencv-python  --break-system-packages"
   ]
  },
  {
   "cell_type": "markdown",
   "id": "0c8f603a-6891-440e-885f-1b25b9685b71",
   "metadata": {},
   "source": [
    "## 1.2 Import Dependencies"
   ]
  },
  {
   "cell_type": "code",
   "execution_count": 18,
   "id": "7073ef65-5b4f-4b3f-9d1d-b3f50173e076",
   "metadata": {},
   "outputs": [],
   "source": [
    "#  import our dependencies \n",
    "import cv2\n",
    "import os\n",
    "import random\n",
    "import numpy as np\n",
    "from matplotlib import pyplot as plt\n",
    "\n",
    "#import tensorflow functional - Api\n",
    "from tensorflow.keras.models import Model\n",
    "from tensorflow.keras.layers import Layer , Conv2D , Dense , MaxPooling2D , Input , Flatten\n",
    "import tensorflow as tf"
   ]
  },
  {
   "cell_type": "markdown",
   "id": "22833da1-ed65-4cec-ac47-bfd99240c85a",
   "metadata": {},
   "source": [
    "## 1.3 Set GPU Growth "
   ]
  },
  {
   "cell_type": "code",
   "execution_count": 19,
   "id": "da3d6857-d90b-4346-bb6a-d0cae64228af",
   "metadata": {},
   "outputs": [],
   "source": [
    "# limiting the amount of ram tensorflow can use\n",
    "gpus  = tf.config.experimental.list_physical_devices('GPU')\n",
    "for gpu in gpus:\n",
    "    tf.config.experimental.set_memory_growth(gpu , True)\n"
   ]
  },
  {
   "cell_type": "markdown",
   "id": "397f00b5-dc46-4b7c-b3cc-78e56498f01d",
   "metadata": {},
   "source": [
    " ## 1.4  Create the folder structure"
   ]
  },
  {
   "cell_type": "code",
   "execution_count": 20,
   "id": "7f2b0aff-8ddf-42a7-b143-1dd60f727b9f",
   "metadata": {},
   "outputs": [],
   "source": [
    "# setting the path\n",
    "POS_PATH = os.path.join('data' , 'positive')\n",
    "NEG_PATH = os.path.join('data' , 'negative')\n",
    "ANC_PATH = os.path.join('data' , 'anchor')"
   ]
  },
  {
   "cell_type": "code",
   "execution_count": 21,
   "id": "128b884c-ee15-4369-a784-6fdc95947e13",
   "metadata": {},
   "outputs": [],
   "source": [
    "# make new directories\n",
    "os.makedirs(POS_PATH)\n",
    "os.makedirs(NEG_PATH)\n",
    "os.makedirs(ANC_PATH)"
   ]
  }
 ],
 "metadata": {
  "kernelspec": {
   "display_name": "Python 3 (ipykernel)",
   "language": "python",
   "name": "python3"
  },
  "language_info": {
   "codemirror_mode": {
    "name": "ipython",
    "version": 3
   },
   "file_extension": ".py",
   "mimetype": "text/x-python",
   "name": "python",
   "nbconvert_exporter": "python",
   "pygments_lexer": "ipython3",
   "version": "3.12.3"
  }
 },
 "nbformat": 4,
 "nbformat_minor": 5
}
