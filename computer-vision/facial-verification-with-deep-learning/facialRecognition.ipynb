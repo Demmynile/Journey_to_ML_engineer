{
 "cells": [
  {
   "cell_type": "markdown",
   "id": "0e0a4a57-3509-4084-a9bd-467f4e468983",
   "metadata": {},
   "source": [
    "# FACIAL RECOGNITION SYSTEM USING DEEP LEARNING"
   ]
  },
  {
   "cell_type": "markdown",
   "id": "8cb57dca-687c-40f7-bf88-445aa0ee3825",
   "metadata": {},
   "source": [
    "## 1.0 Setup "
   ]
  },
  {
   "cell_type": "markdown",
   "id": "1cab3c94-1423-4767-bf87-38dc86377ace",
   "metadata": {},
   "source": [
    "## 1.1 Installing our Dependencies"
   ]
  },
  {
   "cell_type": "code",
   "execution_count": null,
   "id": "8d2564f8-b273-45de-a5c6-c27b03956e24",
   "metadata": {},
   "outputs": [],
   "source": [
    "#!pip3 install tensorflow opencv-python  --break-system-packages"
   ]
  },
  {
   "cell_type": "markdown",
   "id": "0c8f603a-6891-440e-885f-1b25b9685b71",
   "metadata": {},
   "source": [
    "## 1.2 Import Dependencies"
   ]
  },
  {
   "cell_type": "code",
   "execution_count": null,
   "id": "7073ef65-5b4f-4b3f-9d1d-b3f50173e076",
   "metadata": {},
   "outputs": [],
   "source": [
    "#  import our dependencies \n",
    "import cv2\n",
    "import os\n",
    "import random\n",
    "import numpy as np\n",
    "from matplotlib import pyplot as plt\n",
    "\n",
    "#import tensorflow functional - Api\n",
    "from tensorflow.keras.models import Model\n",
    "from tensorflow.keras.layers import Layer , Conv2D , Dense , MaxPooling2D , Input , Flatten\n",
    "import tensorflow as tf"
   ]
  },
  {
   "cell_type": "markdown",
   "id": "22833da1-ed65-4cec-ac47-bfd99240c85a",
   "metadata": {},
   "source": [
    "## 1.3 Set GPU Growth "
   ]
  },
  {
   "cell_type": "code",
   "execution_count": null,
   "id": "da3d6857-d90b-4346-bb6a-d0cae64228af",
   "metadata": {},
   "outputs": [],
   "source": [
    "# limiting the amount of ram tensorflow can use\n",
    "gpus  = tf.config.experimental.list_physical_devices('GPU')\n",
    "for gpu in gpus:\n",
    "    tf.config.experimental.set_memory_growth(gpu , True)\n"
   ]
  },
  {
   "cell_type": "markdown",
   "id": "397f00b5-dc46-4b7c-b3cc-78e56498f01d",
   "metadata": {},
   "source": [
    " ## 1.4  Create the folder structure"
   ]
  },
  {
   "cell_type": "code",
   "execution_count": null,
   "id": "7f2b0aff-8ddf-42a7-b143-1dd60f727b9f",
   "metadata": {},
   "outputs": [],
   "source": [
    "# setting the path\n",
    "POS_PATH = os.path.join('data' , 'positive')\n",
    "NEG_PATH = os.path.join('data' , 'negative')\n",
    "ANC_PATH = os.path.join('data' , 'anchor')"
   ]
  },
  {
   "cell_type": "code",
   "execution_count": null,
   "id": "128b884c-ee15-4369-a784-6fdc95947e13",
   "metadata": {},
   "outputs": [],
   "source": [
    "# make new directories\n",
    "# os.makedirs(POS_PATH)\n",
    "# os.makedirs(NEG_PATH)\n",
    "# os.makedirs(ANC_PATH)"
   ]
  },
  {
   "cell_type": "markdown",
   "id": "ab34512e-39ed-405f-9fd0-836cd4dd530d",
   "metadata": {},
   "source": [
    "## COLLECT POSITIVE AND ANCHOR IMAGES"
   ]
  },
  {
   "cell_type": "code",
   "execution_count": null,
   "id": "8250424d-2326-4253-b294-60eac33e4f51",
   "metadata": {},
   "outputs": [],
   "source": [
    "#2.1 UNTAR LABELLED FACES IN THE WILD DATASET"
   ]
  },
  {
   "cell_type": "code",
   "execution_count": null,
   "id": "6ce21cfb-d6ac-4ecb-bd31-ce99603a6a31",
   "metadata": {},
   "outputs": [],
   "source": [
    "#unzip the image files\n",
    "# !tar -xf ifw.tgz"
   ]
  },
  {
   "cell_type": "code",
   "execution_count": null,
   "id": "7f890cc0-c0c7-4553-a24f-9bd1485f0675",
   "metadata": {},
   "outputs": [],
   "source": [
    "for directory in os.listdir('lfw'):\n",
    "    for file in os.listdir(os.path.join('lfw', directory)):\n",
    "        EX_PATH = os.path.join('lfw', directory, file)\n",
    "        NEW_PATH = os.path.join(NEG_PATH, file)\n",
    "        os.replace(EX_PATH, NEW_PATH)"
   ]
  },
  {
   "cell_type": "code",
   "execution_count": null,
   "id": "4a4f8d73-68bf-47dd-8e86-7f896773e06f",
   "metadata": {},
   "outputs": [],
   "source": [
    "#import uuid library to generate unique image name\n",
    "import uuid"
   ]
  },
  {
   "cell_type": "code",
   "execution_count": null,
   "id": "1441271e-a906-4b77-b7ad-e4ff98df5924",
   "metadata": {},
   "outputs": [],
   "source": [
    "#Establish a connection to the webcam\n",
    "cap = cv2.VideoCapture(0)\n",
    "while cap.isOpened():\n",
    "    ret , frame = cap.read()\n",
    "\n",
    "    #cut down frame by 700 by 1000\n",
    "    frame = frame[:700 , :1000 ,:]\n",
    "\n",
    "    #collect anchors\n",
    "    if cv2.waitKey(1) & 0xFF == ord('a'):\n",
    "         #create unique file path\n",
    "         imgname = os.path.join(ANC_PATH , '{}.jpg'.format(uuid.uuid1()))\n",
    "         #write out anchor image\n",
    "         cv2.imwrite(imgname ,frame)\n",
    "    #collect positives\n",
    "     \n",
    "    if cv2.waitKey(1) & 0xFF == ord('p'):\n",
    "         imgname = os.path.join(POS_PATH , '{}.jpg'.format(uuid.uuid1()))\n",
    "         #write out anchor image\n",
    "         cv2.imwrite(imgname ,frame)\n",
    "    \n",
    "    #show image back to the screen\n",
    "    cv2.imshow('Image Collection' , frame)\n",
    "\n",
    "\n",
    "    #Breaking gracefully\n",
    "    if cv2.waitKey(1) & 0xFF == ord('q'):\n",
    "        break\n",
    "\n",
    "cap.release()\n",
    "cv2.destroyAllWindows()\n"
   ]
  },
  {
   "cell_type": "code",
   "execution_count": null,
   "id": "a1284522-c00f-49e0-9b4f-178b071677ec",
   "metadata": {},
   "outputs": [],
   "source": [
    "plt.imshow(frame)"
   ]
  },
  {
   "cell_type": "code",
   "execution_count": null,
   "id": "460fc69d-a118-48d5-bb69-546e5d081d88",
   "metadata": {},
   "outputs": [],
   "source": [
    "frame.shape"
   ]
  },
  {
   "cell_type": "code",
   "execution_count": null,
   "id": "5c1d8c79-ee04-46de-940f-3e3f438c27b5",
   "metadata": {},
   "outputs": [],
   "source": [
    "frame[:250 , :250 ,:].shape"
   ]
  },
  {
   "cell_type": "code",
   "execution_count": null,
   "id": "3d2304e0-9656-449a-8868-e9a745331de8",
   "metadata": {},
   "outputs": [],
   "source": [
    "plt.imshow(frame[:700 , :1000 ,:])"
   ]
  },
  {
   "cell_type": "markdown",
   "id": "ac16c80a-58ac-4838-b70e-1bafcd03b7ac",
   "metadata": {},
   "source": [
    "## Load and Preprocess Images"
   ]
  },
  {
   "cell_type": "markdown",
   "id": "fd8abc19-595b-4327-be19-8f558cdb5b4a",
   "metadata": {},
   "source": [
    "#### Get Image Directories"
   ]
  },
  {
   "cell_type": "code",
   "execution_count": 16,
   "id": "d91d1d4c-028c-406f-b41c-771a386c04c9",
   "metadata": {},
   "outputs": [
    {
     "name": "stderr",
     "output_type": "stream",
     "text": [
      "<>:1: SyntaxWarning: invalid escape sequence '\\*'\n",
      "<>:2: SyntaxWarning: invalid escape sequence '\\*'\n",
      "<>:3: SyntaxWarning: invalid escape sequence '\\*'\n",
      "<>:1: SyntaxWarning: invalid escape sequence '\\*'\n",
      "<>:2: SyntaxWarning: invalid escape sequence '\\*'\n",
      "<>:3: SyntaxWarning: invalid escape sequence '\\*'\n",
      "/var/folders/l4/6cg2722j7031pp0r786tzzpc0000gn/T/ipykernel_12331/129719944.py:1: SyntaxWarning: invalid escape sequence '\\*'\n",
      "  anchor = tf.data.Dataset.list_files(ANC_PATH+'\\*.jpg').take(300)\n",
      "/var/folders/l4/6cg2722j7031pp0r786tzzpc0000gn/T/ipykernel_12331/129719944.py:2: SyntaxWarning: invalid escape sequence '\\*'\n",
      "  positive = tf.data.Dataset.list_files(POS_PATH+'\\*.jpg').take(300)\n",
      "/var/folders/l4/6cg2722j7031pp0r786tzzpc0000gn/T/ipykernel_12331/129719944.py:3: SyntaxWarning: invalid escape sequence '\\*'\n",
      "  negative = tf.data.Dataset.list_files(NEG_PATH+'\\*.jpg').take(300)\n",
      "/var/folders/l4/6cg2722j7031pp0r786tzzpc0000gn/T/ipykernel_12331/129719944.py:1: SyntaxWarning: invalid escape sequence '\\*'\n",
      "  anchor = tf.data.Dataset.list_files(ANC_PATH+'\\*.jpg').take(300)\n",
      "/var/folders/l4/6cg2722j7031pp0r786tzzpc0000gn/T/ipykernel_12331/129719944.py:2: SyntaxWarning: invalid escape sequence '\\*'\n",
      "  positive = tf.data.Dataset.list_files(POS_PATH+'\\*.jpg').take(300)\n",
      "/var/folders/l4/6cg2722j7031pp0r786tzzpc0000gn/T/ipykernel_12331/129719944.py:3: SyntaxWarning: invalid escape sequence '\\*'\n",
      "  negative = tf.data.Dataset.list_files(NEG_PATH+'\\*.jpg').take(300)\n"
     ]
    },
    {
     "ename": "InvalidArgumentError",
     "evalue": "Expected 'tf.Tensor(False, shape=(), dtype=bool)' to be true. Summarized data: b'No files matched pattern: data/anchor\\\\*.jpg'",
     "output_type": "error",
     "traceback": [
      "\u001b[0;31m---------------------------------------------------------------------------\u001b[0m",
      "\u001b[0;31mInvalidArgumentError\u001b[0m                      Traceback (most recent call last)",
      "Cell \u001b[0;32mIn[16], line 1\u001b[0m\n\u001b[0;32m----> 1\u001b[0m anchor \u001b[38;5;241m=\u001b[39m \u001b[43mtf\u001b[49m\u001b[38;5;241;43m.\u001b[39;49m\u001b[43mdata\u001b[49m\u001b[38;5;241;43m.\u001b[39;49m\u001b[43mDataset\u001b[49m\u001b[38;5;241;43m.\u001b[39;49m\u001b[43mlist_files\u001b[49m\u001b[43m(\u001b[49m\u001b[43mANC_PATH\u001b[49m\u001b[38;5;241;43m+\u001b[39;49m\u001b[38;5;124;43m'\u001b[39;49m\u001b[38;5;124;43m\\\u001b[39;49m\u001b[38;5;124;43m*.jpg\u001b[39;49m\u001b[38;5;124;43m'\u001b[39;49m\u001b[43m)\u001b[49m\u001b[38;5;241m.\u001b[39mtake(\u001b[38;5;241m300\u001b[39m)\n\u001b[1;32m      2\u001b[0m positive \u001b[38;5;241m=\u001b[39m tf\u001b[38;5;241m.\u001b[39mdata\u001b[38;5;241m.\u001b[39mDataset\u001b[38;5;241m.\u001b[39mlist_files(POS_PATH\u001b[38;5;241m+\u001b[39m\u001b[38;5;124m'\u001b[39m\u001b[38;5;124m\\\u001b[39m\u001b[38;5;124m*.jpg\u001b[39m\u001b[38;5;124m'\u001b[39m)\u001b[38;5;241m.\u001b[39mtake(\u001b[38;5;241m300\u001b[39m)\n\u001b[1;32m      3\u001b[0m negative \u001b[38;5;241m=\u001b[39m tf\u001b[38;5;241m.\u001b[39mdata\u001b[38;5;241m.\u001b[39mDataset\u001b[38;5;241m.\u001b[39mlist_files(NEG_PATH\u001b[38;5;241m+\u001b[39m\u001b[38;5;124m'\u001b[39m\u001b[38;5;124m\\\u001b[39m\u001b[38;5;124m*.jpg\u001b[39m\u001b[38;5;124m'\u001b[39m)\u001b[38;5;241m.\u001b[39mtake(\u001b[38;5;241m300\u001b[39m)\n",
      "File \u001b[0;32m/opt/homebrew/lib/python3.12/site-packages/tensorflow/python/data/ops/dataset_ops.py:1320\u001b[0m, in \u001b[0;36mDatasetV2.list_files\u001b[0;34m(file_pattern, shuffle, seed, name)\u001b[0m\n\u001b[1;32m   1313\u001b[0m condition \u001b[38;5;241m=\u001b[39m math_ops\u001b[38;5;241m.\u001b[39mgreater(array_ops\u001b[38;5;241m.\u001b[39mshape(matching_files)[\u001b[38;5;241m0\u001b[39m], \u001b[38;5;241m0\u001b[39m,\n\u001b[1;32m   1314\u001b[0m                              name\u001b[38;5;241m=\u001b[39m\u001b[38;5;124m\"\u001b[39m\u001b[38;5;124mmatch_not_empty\u001b[39m\u001b[38;5;124m\"\u001b[39m)\n\u001b[1;32m   1316\u001b[0m message \u001b[38;5;241m=\u001b[39m math_ops\u001b[38;5;241m.\u001b[39madd(\n\u001b[1;32m   1317\u001b[0m     \u001b[38;5;124m\"\u001b[39m\u001b[38;5;124mNo files matched pattern: \u001b[39m\u001b[38;5;124m\"\u001b[39m,\n\u001b[1;32m   1318\u001b[0m     string_ops\u001b[38;5;241m.\u001b[39mreduce_join(file_pattern, separator\u001b[38;5;241m=\u001b[39m\u001b[38;5;124m\"\u001b[39m\u001b[38;5;124m, \u001b[39m\u001b[38;5;124m\"\u001b[39m), name\u001b[38;5;241m=\u001b[39m\u001b[38;5;124m\"\u001b[39m\u001b[38;5;124mmessage\u001b[39m\u001b[38;5;124m\"\u001b[39m)\n\u001b[0;32m-> 1320\u001b[0m assert_not_empty \u001b[38;5;241m=\u001b[39m \u001b[43mcontrol_flow_assert\u001b[49m\u001b[38;5;241;43m.\u001b[39;49m\u001b[43mAssert\u001b[49m\u001b[43m(\u001b[49m\n\u001b[1;32m   1321\u001b[0m \u001b[43m    \u001b[49m\u001b[43mcondition\u001b[49m\u001b[43m,\u001b[49m\u001b[43m \u001b[49m\u001b[43m[\u001b[49m\u001b[43mmessage\u001b[49m\u001b[43m]\u001b[49m\u001b[43m,\u001b[49m\u001b[43m \u001b[49m\u001b[43msummarize\u001b[49m\u001b[38;5;241;43m=\u001b[39;49m\u001b[38;5;241;43m1\u001b[39;49m\u001b[43m,\u001b[49m\u001b[43m \u001b[49m\u001b[43mname\u001b[49m\u001b[38;5;241;43m=\u001b[39;49m\u001b[38;5;124;43m\"\u001b[39;49m\u001b[38;5;124;43massert_not_empty\u001b[39;49m\u001b[38;5;124;43m\"\u001b[39;49m\u001b[43m)\u001b[49m\n\u001b[1;32m   1322\u001b[0m \u001b[38;5;28;01mwith\u001b[39;00m ops\u001b[38;5;241m.\u001b[39mcontrol_dependencies([assert_not_empty]):\n\u001b[1;32m   1323\u001b[0m   matching_files \u001b[38;5;241m=\u001b[39m array_ops\u001b[38;5;241m.\u001b[39midentity(matching_files)\n",
      "File \u001b[0;32m/opt/homebrew/lib/python3.12/site-packages/tensorflow/python/util/traceback_utils.py:153\u001b[0m, in \u001b[0;36mfilter_traceback.<locals>.error_handler\u001b[0;34m(*args, **kwargs)\u001b[0m\n\u001b[1;32m    151\u001b[0m \u001b[38;5;28;01mexcept\u001b[39;00m \u001b[38;5;167;01mException\u001b[39;00m \u001b[38;5;28;01mas\u001b[39;00m e:\n\u001b[1;32m    152\u001b[0m   filtered_tb \u001b[38;5;241m=\u001b[39m _process_traceback_frames(e\u001b[38;5;241m.\u001b[39m__traceback__)\n\u001b[0;32m--> 153\u001b[0m   \u001b[38;5;28;01mraise\u001b[39;00m e\u001b[38;5;241m.\u001b[39mwith_traceback(filtered_tb) \u001b[38;5;28;01mfrom\u001b[39;00m \u001b[38;5;28;01mNone\u001b[39;00m\n\u001b[1;32m    154\u001b[0m \u001b[38;5;28;01mfinally\u001b[39;00m:\n\u001b[1;32m    155\u001b[0m   \u001b[38;5;28;01mdel\u001b[39;00m filtered_tb\n",
      "File \u001b[0;32m/opt/homebrew/lib/python3.12/site-packages/tensorflow/python/ops/control_flow_assert.py:102\u001b[0m, in \u001b[0;36mAssert\u001b[0;34m(condition, data, summarize, name)\u001b[0m\n\u001b[1;32m    100\u001b[0m     xs \u001b[38;5;241m=\u001b[39m ops\u001b[38;5;241m.\u001b[39mconvert_n_to_tensor(data)\n\u001b[1;32m    101\u001b[0m     data_str \u001b[38;5;241m=\u001b[39m [_summarize_eager(x, summarize) \u001b[38;5;28;01mfor\u001b[39;00m x \u001b[38;5;129;01min\u001b[39;00m xs]\n\u001b[0;32m--> 102\u001b[0m     \u001b[38;5;28;01mraise\u001b[39;00m errors\u001b[38;5;241m.\u001b[39mInvalidArgumentError(\n\u001b[1;32m    103\u001b[0m         node_def\u001b[38;5;241m=\u001b[39m\u001b[38;5;28;01mNone\u001b[39;00m,\n\u001b[1;32m    104\u001b[0m         op\u001b[38;5;241m=\u001b[39m\u001b[38;5;28;01mNone\u001b[39;00m,\n\u001b[1;32m    105\u001b[0m         message\u001b[38;5;241m=\u001b[39m\u001b[38;5;124m\"\u001b[39m\u001b[38;5;124mExpected \u001b[39m\u001b[38;5;124m'\u001b[39m\u001b[38;5;132;01m%s\u001b[39;00m\u001b[38;5;124m'\u001b[39m\u001b[38;5;124m to be true. Summarized data: \u001b[39m\u001b[38;5;132;01m%s\u001b[39;00m\u001b[38;5;124m\"\u001b[39m \u001b[38;5;241m%\u001b[39m\n\u001b[1;32m    106\u001b[0m         (condition, \u001b[38;5;124m\"\u001b[39m\u001b[38;5;130;01m\\n\u001b[39;00m\u001b[38;5;124m\"\u001b[39m\u001b[38;5;241m.\u001b[39mjoin(data_str)))\n\u001b[1;32m    107\u001b[0m   \u001b[38;5;28;01mreturn\u001b[39;00m\n\u001b[1;32m    109\u001b[0m \u001b[38;5;28;01mwith\u001b[39;00m ops\u001b[38;5;241m.\u001b[39mname_scope(name, \u001b[38;5;124m\"\u001b[39m\u001b[38;5;124mAssert\u001b[39m\u001b[38;5;124m\"\u001b[39m, [condition, data]) \u001b[38;5;28;01mas\u001b[39;00m name:\n",
      "\u001b[0;31mInvalidArgumentError\u001b[0m: Expected 'tf.Tensor(False, shape=(), dtype=bool)' to be true. Summarized data: b'No files matched pattern: data/anchor\\\\*.jpg'"
     ]
    }
   ],
   "source": [
    "anchor = tf.data.Dataset.list_files(ANC_PATH+'\\*.jpg').take(300)\n",
    "positive = tf.data.Dataset.list_files(POS_PATH+'\\*.jpg').take(300)\n",
    "negative = tf.data.Dataset.list_files(NEG_PATH+'\\*.jpg').take(300)"
   ]
  },
  {
   "cell_type": "code",
   "execution_count": null,
   "id": "3963a440-6853-4a2c-bccc-2b13c508db38",
   "metadata": {},
   "outputs": [],
   "source": [
    "dir_test = anchor.as_numpy_iterator()"
   ]
  },
  {
   "cell_type": "code",
   "execution_count": null,
   "id": "c2386a49-eec8-495d-b88a-9b1fa2ea56c6",
   "metadata": {},
   "outputs": [],
   "source": [
    "print(dir_test.next())"
   ]
  },
  {
   "cell_type": "code",
   "execution_count": null,
   "id": "561bca10-59d6-4809-9d3d-3872ec6b8465",
   "metadata": {},
   "outputs": [],
   "source": []
  }
 ],
 "metadata": {
  "kernelspec": {
   "display_name": "Python 3 (ipykernel)",
   "language": "python",
   "name": "python3"
  },
  "language_info": {
   "codemirror_mode": {
    "name": "ipython",
    "version": 3
   },
   "file_extension": ".py",
   "mimetype": "text/x-python",
   "name": "python",
   "nbconvert_exporter": "python",
   "pygments_lexer": "ipython3",
   "version": "3.12.3"
  }
 },
 "nbformat": 4,
 "nbformat_minor": 5
}
